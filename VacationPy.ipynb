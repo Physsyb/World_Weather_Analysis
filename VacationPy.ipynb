{
 "cells": [
  {
   "cell_type": "code",
   "execution_count": 1,
   "metadata": {},
   "outputs": [],
   "source": [
    "# Import the dependencies.\n",
    "import pandas as pd\n",
    "import gmaps\n",
    "import requests\n",
    "# Import the API key.\n",
    "from config import g_key"
   ]
  },
  {
   "cell_type": "code",
   "execution_count": 2,
   "metadata": {},
   "outputs": [
    {
     "data": {
      "text/html": [
       "<div>\n",
       "<style scoped>\n",
       "    .dataframe tbody tr th:only-of-type {\n",
       "        vertical-align: middle;\n",
       "    }\n",
       "\n",
       "    .dataframe tbody tr th {\n",
       "        vertical-align: top;\n",
       "    }\n",
       "\n",
       "    .dataframe thead th {\n",
       "        text-align: right;\n",
       "    }\n",
       "</style>\n",
       "<table border=\"1\" class=\"dataframe\">\n",
       "  <thead>\n",
       "    <tr style=\"text-align: right;\">\n",
       "      <th></th>\n",
       "      <th>City_ID</th>\n",
       "      <th>City</th>\n",
       "      <th>Country</th>\n",
       "      <th>Date</th>\n",
       "      <th>Lat</th>\n",
       "      <th>Lng</th>\n",
       "      <th>Max Temp</th>\n",
       "      <th>Humidity</th>\n",
       "      <th>Cloudiness</th>\n",
       "      <th>Wind Speed</th>\n",
       "    </tr>\n",
       "  </thead>\n",
       "  <tbody>\n",
       "    <tr>\n",
       "      <th>0</th>\n",
       "      <td>0</td>\n",
       "      <td>Rikitea</td>\n",
       "      <td>PF</td>\n",
       "      <td>2021-02-04 17:54:00</td>\n",
       "      <td>-23.1203</td>\n",
       "      <td>-134.9692</td>\n",
       "      <td>78.26</td>\n",
       "      <td>69</td>\n",
       "      <td>99</td>\n",
       "      <td>11.05</td>\n",
       "    </tr>\n",
       "    <tr>\n",
       "      <th>1</th>\n",
       "      <td>1</td>\n",
       "      <td>Lebu</td>\n",
       "      <td>CL</td>\n",
       "      <td>2021-02-04 17:54:00</td>\n",
       "      <td>-37.6167</td>\n",
       "      <td>-73.6500</td>\n",
       "      <td>71.28</td>\n",
       "      <td>51</td>\n",
       "      <td>1</td>\n",
       "      <td>5.53</td>\n",
       "    </tr>\n",
       "    <tr>\n",
       "      <th>2</th>\n",
       "      <td>2</td>\n",
       "      <td>Khatanga</td>\n",
       "      <td>RU</td>\n",
       "      <td>2021-02-04 17:54:00</td>\n",
       "      <td>71.9667</td>\n",
       "      <td>102.5000</td>\n",
       "      <td>-30.86</td>\n",
       "      <td>79</td>\n",
       "      <td>0</td>\n",
       "      <td>8.84</td>\n",
       "    </tr>\n",
       "    <tr>\n",
       "      <th>3</th>\n",
       "      <td>3</td>\n",
       "      <td>Puerto Ayora</td>\n",
       "      <td>EC</td>\n",
       "      <td>2021-02-04 17:54:00</td>\n",
       "      <td>-0.7393</td>\n",
       "      <td>-90.3518</td>\n",
       "      <td>86.00</td>\n",
       "      <td>70</td>\n",
       "      <td>0</td>\n",
       "      <td>19.57</td>\n",
       "    </tr>\n",
       "    <tr>\n",
       "      <th>4</th>\n",
       "      <td>4</td>\n",
       "      <td>Yellowknife</td>\n",
       "      <td>CA</td>\n",
       "      <td>2021-02-04 17:50:02</td>\n",
       "      <td>62.4560</td>\n",
       "      <td>-114.3525</td>\n",
       "      <td>-24.00</td>\n",
       "      <td>68</td>\n",
       "      <td>20</td>\n",
       "      <td>10.36</td>\n",
       "    </tr>\n",
       "  </tbody>\n",
       "</table>\n",
       "</div>"
      ],
      "text/plain": [
       "   City_ID          City Country                 Date      Lat       Lng  \\\n",
       "0        0       Rikitea      PF  2021-02-04 17:54:00 -23.1203 -134.9692   \n",
       "1        1          Lebu      CL  2021-02-04 17:54:00 -37.6167  -73.6500   \n",
       "2        2      Khatanga      RU  2021-02-04 17:54:00  71.9667  102.5000   \n",
       "3        3  Puerto Ayora      EC  2021-02-04 17:54:00  -0.7393  -90.3518   \n",
       "4        4   Yellowknife      CA  2021-02-04 17:50:02  62.4560 -114.3525   \n",
       "\n",
       "   Max Temp  Humidity  Cloudiness  Wind Speed  \n",
       "0     78.26        69          99       11.05  \n",
       "1     71.28        51           1        5.53  \n",
       "2    -30.86        79           0        8.84  \n",
       "3     86.00        70           0       19.57  \n",
       "4    -24.00        68          20       10.36  "
      ]
     },
     "execution_count": 2,
     "metadata": {},
     "output_type": "execute_result"
    }
   ],
   "source": [
    "# Store the CSV you saved created in part one into a DataFrame.\n",
    "city_data_df = pd.read_csv(\"weather_data/cities.csv\")\n",
    "city_data_df.head()"
   ]
  },
  {
   "cell_type": "code",
   "execution_count": 3,
   "metadata": {},
   "outputs": [
    {
     "data": {
      "text/plain": [
       "City_ID         int64\n",
       "City           object\n",
       "Country        object\n",
       "Date           object\n",
       "Lat           float64\n",
       "Lng           float64\n",
       "Max Temp      float64\n",
       "Humidity        int64\n",
       "Cloudiness      int64\n",
       "Wind Speed    float64\n",
       "dtype: object"
      ]
     },
     "execution_count": 3,
     "metadata": {},
     "output_type": "execute_result"
    }
   ],
   "source": [
    "# Get the data types\n",
    "city_data_df.dtypes"
   ]
  },
  {
   "cell_type": "code",
   "execution_count": 4,
   "metadata": {},
   "outputs": [],
   "source": [
    "gmaps.configure(api_key=g_key)"
   ]
  },
  {
   "cell_type": "code",
   "execution_count": 5,
   "metadata": {},
   "outputs": [],
   "source": [
    "# Get the maximum temperature.\n",
    "max_temp = city_data_df[\"Max Temp\"]\n",
    "temps = []\n",
    "for temp in max_temp:\n",
    "    temps.append(max(temp, 0))"
   ]
  },
  {
   "cell_type": "code",
   "execution_count": 6,
   "metadata": {},
   "outputs": [
    {
     "data": {
      "application/vnd.jupyter.widget-view+json": {
       "model_id": "ac19b19d8d134f80beb1205ded736a83",
       "version_major": 2,
       "version_minor": 0
      },
      "text/plain": [
       "Figure(layout=FigureLayout(height='420px'))"
      ]
     },
     "metadata": {},
     "output_type": "display_data"
    }
   ],
   "source": [
    "# Heatmap of temperature\n",
    "# Get the latitude and longitude.\n",
    "# 1. Assign the locations to an array of latitude and longitude pairs.\n",
    "locations = city_data_df[[\"Lat\", \"Lng\"]]\n",
    "\n",
    "# 2. Assign the weights variable to some values.\n",
    "temperatures = city_data_df[\"Humidity\"]\n",
    "max_temp = temperatures.max()\n",
    "\n",
    "# 3. Assign the figure variable to the gmaps.figure() attribute.\n",
    "fig = gmaps.figure()\n",
    "\n",
    "# 4. Assign the heatmap_layer variable to the heatmap_layer attribute and add in the locations.\n",
    "heat_layer = gmaps.heatmap_layer(locations, weights=temps)\n",
    "\n",
    "# 5. Add the heatmap layer.\n",
    "fig.add_layer(heat_layer)\n",
    "\n",
    "# 6. Call the figure to plot the data.\n",
    "fig\n",
    "\n"
   ]
  },
  {
   "cell_type": "code",
   "execution_count": 7,
   "metadata": {},
   "outputs": [],
   "source": [
    "# Get the maximum temperature.\n",
    "max_temp = city_data_df[\"Max Temp\"]\n",
    "temps = []\n",
    "for temp in max_temp:\n",
    "    temps.append(max(temp, 0))"
   ]
  },
  {
   "cell_type": "code",
   "execution_count": 8,
   "metadata": {},
   "outputs": [
    {
     "data": {
      "application/vnd.jupyter.widget-view+json": {
       "model_id": "1ba626092e534c8d83253d2a8fb950fb",
       "version_major": 2,
       "version_minor": 0
      },
      "text/plain": [
       "Figure(layout=FigureLayout(height='420px'))"
      ]
     },
     "metadata": {},
     "output_type": "display_data"
    }
   ],
   "source": [
    "# 1. Assign the locations to an array of latitude and longitude pairs.\n",
    "locations = city_data_df[[\"Lat\", \"Lng\"]]\n",
    "\n",
    "# 2. Assign the weights variable to some values.\n",
    "temperatures = city_data_df[\"Humidity\"]\n",
    "max_temp = temperatures.max()\n",
    "\n",
    "# 3. Assign the figure variable to the gmaps.figure() attribute.\n",
    "fig = gmaps.figure()\n",
    "\n",
    "# 4. Assign the heatmap_layer variable to the heatmap_layer attribute and add in the locations.\n",
    "heat_layer = gmaps.heatmap_layer(locations, weights=[max(temp, 0) for temp in temperatures])\n",
    "\n",
    "# 5. Add the heatmap layer.\n",
    "fig.add_layer(heat_layer)\n",
    "# 6. Call the figure to plot the data.\n",
    "fig"
   ]
  },
  {
   "cell_type": "code",
   "execution_count": 9,
   "metadata": {},
   "outputs": [],
   "source": [
    "# Adjust Heatmap Zoom, Intensity, and Point Radius"
   ]
  },
  {
   "cell_type": "code",
   "execution_count": 10,
   "metadata": {},
   "outputs": [
    {
     "data": {
      "application/vnd.jupyter.widget-view+json": {
       "model_id": "179bed99a9a344c7bdfd536428336e05",
       "version_major": 2,
       "version_minor": 0
      },
      "text/plain": [
       "Figure(layout=FigureLayout(height='420px'))"
      ]
     },
     "metadata": {},
     "output_type": "display_data"
    }
   ],
   "source": [
    "# 1. Assign the locations to an array of latitude and longitude pairs.\n",
    "locations = city_data_df[[\"Lat\", \"Lng\"]]\n",
    "\n",
    "# 2. Assign the weights variable to some values.\n",
    "temperatures = city_data_df[\"Humidity\"]\n",
    "max_temp = temperatures.max()\n",
    "\n",
    "# 3. Assign the figure variable to the gmaps.figure() attribute.\n",
    "fig = gmaps.figure(center=(30.0, 31.0), zoom_level=1.5)\n",
    "\n",
    "# 4. Assign the heatmap_layer variable to the heatmap_layer attribute and add in the locations.\n",
    "# heat_layer = gmaps.heatmap_layer(locations, weights=[max(temp, 0) for temp in temperatures])\n",
    "heat_layer = gmaps.heatmap_layer(locations, weights=temps, dissipating=False, max_intensity=300, point_radius=4)\n",
    "\n",
    "# 5. Add the heatmap layer.\n",
    "fig.add_layer(heat_layer)\n",
    "\n",
    "# 6. Call the figure to plot the data.\n",
    "fig"
   ]
  },
  {
   "cell_type": "code",
   "execution_count": 11,
   "metadata": {},
   "outputs": [],
   "source": [
    "# Create a Percent Humidity Heatmap"
   ]
  },
  {
   "cell_type": "code",
   "execution_count": 12,
   "metadata": {},
   "outputs": [
    {
     "data": {
      "application/vnd.jupyter.widget-view+json": {
       "model_id": "4d23157ff21845ba8c9fcfc13e494b62",
       "version_major": 2,
       "version_minor": 0
      },
      "text/plain": [
       "Figure(layout=FigureLayout(height='420px'))"
      ]
     },
     "metadata": {},
     "output_type": "display_data"
    }
   ],
   "source": [
    "# Heatmap of percent humidity\n",
    "locations = city_data_df[[\"Lat\", \"Lng\"]]\n",
    "humidity = city_data_df[\"Humidity\"]\n",
    "fig = gmaps.figure(center=(30.0, 31.0), zoom_level=1.5)\n",
    "heat_layer = gmaps.heatmap_layer(locations, weights=humidity, dissipating=False, max_intensity=300, point_radius=4)\n",
    "\n",
    "fig.add_layer(heat_layer)\n",
    "# Call the figure to plot the data.\n",
    "fig"
   ]
  },
  {
   "cell_type": "code",
   "execution_count": 13,
   "metadata": {},
   "outputs": [
    {
     "data": {
      "application/vnd.jupyter.widget-view+json": {
       "model_id": "6fc5e25e19694207b5b998f3bc5d7b09",
       "version_major": 2,
       "version_minor": 0
      },
      "text/plain": [
       "Figure(layout=FigureLayout(height='420px'))"
      ]
     },
     "metadata": {},
     "output_type": "display_data"
    }
   ],
   "source": [
    "# Heatmap of percent cloudiness\n",
    "locations = city_data_df[[\"Lat\", \"Lng\"]]\n",
    "clouds = city_data_df[\"Cloudiness\"]\n",
    "fig = gmaps.figure(center=(30.0, 31.0), zoom_level=1.5)\n",
    "heat_layer = gmaps.heatmap_layer(locations, weights=clouds, dissipating=False, max_intensity=300, point_radius=4)\n",
    "\n",
    "fig.add_layer(heat_layer)\n",
    "# Call the figure to plot the data.\n",
    "fig"
   ]
  },
  {
   "cell_type": "code",
   "execution_count": 14,
   "metadata": {},
   "outputs": [],
   "source": [
    "## Create a Wind Speed Heatmap"
   ]
  },
  {
   "cell_type": "code",
   "execution_count": 15,
   "metadata": {},
   "outputs": [
    {
     "data": {
      "application/vnd.jupyter.widget-view+json": {
       "model_id": "c48631c9eba649f7aee34efe998479bc",
       "version_major": 2,
       "version_minor": 0
      },
      "text/plain": [
       "Figure(layout=FigureLayout(height='420px'))"
      ]
     },
     "metadata": {},
     "output_type": "display_data"
    }
   ],
   "source": [
    "# Heatmap of percent cloudiness\n",
    "locations = city_data_df[[\"Lat\", \"Lng\"]]\n",
    "wind = city_data_df[\"Wind Speed\"]\n",
    "fig = gmaps.figure(center=(30.0, 31.0), zoom_level=1.5)\n",
    "heat_layer = gmaps.heatmap_layer(locations, weights=wind, dissipating=False, max_intensity=300, point_radius=4)\n",
    "\n",
    "fig.add_layer(heat_layer)\n",
    "# Call the figure to plot the data.\n",
    "fig"
   ]
  },
  {
   "cell_type": "code",
   "execution_count": 16,
   "metadata": {},
   "outputs": [],
   "source": [
    "# GET A VACATION CRITERIA"
   ]
  },
  {
   "cell_type": "code",
   "execution_count": 17,
   "metadata": {},
   "outputs": [
    {
     "name": "stdout",
     "output_type": "stream",
     "text": [
      "What is the minimum temperature you would like for your trip? 75\n",
      "What is the maximum temperature you would like for your trip? 90\n"
     ]
    }
   ],
   "source": [
    "# Ask the customer to add a minimum and maximum temperature value.\n",
    "min_temp = float(input(\"What is the minimum temperature you would like for your trip? \"))\n",
    "max_temp = float(input(\"What is the maximum temperature you would like for your trip? \"))"
   ]
  },
  {
   "cell_type": "code",
   "execution_count": 18,
   "metadata": {},
   "outputs": [
    {
     "data": {
      "text/html": [
       "<div>\n",
       "<style scoped>\n",
       "    .dataframe tbody tr th:only-of-type {\n",
       "        vertical-align: middle;\n",
       "    }\n",
       "\n",
       "    .dataframe tbody tr th {\n",
       "        vertical-align: top;\n",
       "    }\n",
       "\n",
       "    .dataframe thead th {\n",
       "        text-align: right;\n",
       "    }\n",
       "</style>\n",
       "<table border=\"1\" class=\"dataframe\">\n",
       "  <thead>\n",
       "    <tr style=\"text-align: right;\">\n",
       "      <th></th>\n",
       "      <th>City_ID</th>\n",
       "      <th>City</th>\n",
       "      <th>Country</th>\n",
       "      <th>Date</th>\n",
       "      <th>Lat</th>\n",
       "      <th>Lng</th>\n",
       "      <th>Max Temp</th>\n",
       "      <th>Humidity</th>\n",
       "      <th>Cloudiness</th>\n",
       "      <th>Wind Speed</th>\n",
       "    </tr>\n",
       "  </thead>\n",
       "  <tbody>\n",
       "    <tr>\n",
       "      <th>0</th>\n",
       "      <td>0</td>\n",
       "      <td>Rikitea</td>\n",
       "      <td>PF</td>\n",
       "      <td>2021-02-04 17:54:00</td>\n",
       "      <td>-23.1203</td>\n",
       "      <td>-134.9692</td>\n",
       "      <td>78.26</td>\n",
       "      <td>69</td>\n",
       "      <td>99</td>\n",
       "      <td>11.05</td>\n",
       "    </tr>\n",
       "    <tr>\n",
       "      <th>3</th>\n",
       "      <td>3</td>\n",
       "      <td>Puerto Ayora</td>\n",
       "      <td>EC</td>\n",
       "      <td>2021-02-04 17:54:00</td>\n",
       "      <td>-0.7393</td>\n",
       "      <td>-90.3518</td>\n",
       "      <td>86.00</td>\n",
       "      <td>70</td>\n",
       "      <td>0</td>\n",
       "      <td>19.57</td>\n",
       "    </tr>\n",
       "    <tr>\n",
       "      <th>8</th>\n",
       "      <td>8</td>\n",
       "      <td>Saint-Philippe</td>\n",
       "      <td>RE</td>\n",
       "      <td>2021-02-04 17:54:01</td>\n",
       "      <td>-21.3585</td>\n",
       "      <td>55.7679</td>\n",
       "      <td>82.40</td>\n",
       "      <td>65</td>\n",
       "      <td>75</td>\n",
       "      <td>6.91</td>\n",
       "    </tr>\n",
       "    <tr>\n",
       "      <th>9</th>\n",
       "      <td>9</td>\n",
       "      <td>Castro</td>\n",
       "      <td>BR</td>\n",
       "      <td>2021-02-04 17:54:01</td>\n",
       "      <td>-24.7911</td>\n",
       "      <td>-50.0119</td>\n",
       "      <td>78.04</td>\n",
       "      <td>80</td>\n",
       "      <td>41</td>\n",
       "      <td>9.89</td>\n",
       "    </tr>\n",
       "    <tr>\n",
       "      <th>10</th>\n",
       "      <td>10</td>\n",
       "      <td>Sao Joao Da Barra</td>\n",
       "      <td>BR</td>\n",
       "      <td>2021-02-04 17:53:37</td>\n",
       "      <td>-21.6403</td>\n",
       "      <td>-41.0511</td>\n",
       "      <td>89.60</td>\n",
       "      <td>48</td>\n",
       "      <td>20</td>\n",
       "      <td>20.71</td>\n",
       "    </tr>\n",
       "    <tr>\n",
       "      <th>15</th>\n",
       "      <td>15</td>\n",
       "      <td>Geraldton</td>\n",
       "      <td>AU</td>\n",
       "      <td>2021-02-04 17:54:02</td>\n",
       "      <td>-28.7667</td>\n",
       "      <td>114.6000</td>\n",
       "      <td>77.00</td>\n",
       "      <td>31</td>\n",
       "      <td>98</td>\n",
       "      <td>17.27</td>\n",
       "    </tr>\n",
       "    <tr>\n",
       "      <th>27</th>\n",
       "      <td>27</td>\n",
       "      <td>Vaini</td>\n",
       "      <td>TO</td>\n",
       "      <td>2021-02-04 17:54:04</td>\n",
       "      <td>-21.2000</td>\n",
       "      <td>-175.2000</td>\n",
       "      <td>77.00</td>\n",
       "      <td>100</td>\n",
       "      <td>75</td>\n",
       "      <td>4.61</td>\n",
       "    </tr>\n",
       "    <tr>\n",
       "      <th>29</th>\n",
       "      <td>29</td>\n",
       "      <td>Lethem</td>\n",
       "      <td>GY</td>\n",
       "      <td>2021-02-04 17:54:05</td>\n",
       "      <td>3.3803</td>\n",
       "      <td>-59.7968</td>\n",
       "      <td>88.05</td>\n",
       "      <td>55</td>\n",
       "      <td>46</td>\n",
       "      <td>11.77</td>\n",
       "    </tr>\n",
       "    <tr>\n",
       "      <th>30</th>\n",
       "      <td>30</td>\n",
       "      <td>Luanda</td>\n",
       "      <td>AO</td>\n",
       "      <td>2021-02-04 17:51:33</td>\n",
       "      <td>-8.8368</td>\n",
       "      <td>13.2343</td>\n",
       "      <td>84.20</td>\n",
       "      <td>74</td>\n",
       "      <td>20</td>\n",
       "      <td>10.36</td>\n",
       "    </tr>\n",
       "    <tr>\n",
       "      <th>36</th>\n",
       "      <td>36</td>\n",
       "      <td>Bengkulu</td>\n",
       "      <td>ID</td>\n",
       "      <td>2021-02-04 17:54:05</td>\n",
       "      <td>-3.8004</td>\n",
       "      <td>102.2655</td>\n",
       "      <td>75.81</td>\n",
       "      <td>86</td>\n",
       "      <td>100</td>\n",
       "      <td>4.61</td>\n",
       "    </tr>\n",
       "  </tbody>\n",
       "</table>\n",
       "</div>"
      ],
      "text/plain": [
       "    City_ID               City Country                 Date      Lat  \\\n",
       "0         0            Rikitea      PF  2021-02-04 17:54:00 -23.1203   \n",
       "3         3       Puerto Ayora      EC  2021-02-04 17:54:00  -0.7393   \n",
       "8         8     Saint-Philippe      RE  2021-02-04 17:54:01 -21.3585   \n",
       "9         9             Castro      BR  2021-02-04 17:54:01 -24.7911   \n",
       "10       10  Sao Joao Da Barra      BR  2021-02-04 17:53:37 -21.6403   \n",
       "15       15          Geraldton      AU  2021-02-04 17:54:02 -28.7667   \n",
       "27       27              Vaini      TO  2021-02-04 17:54:04 -21.2000   \n",
       "29       29             Lethem      GY  2021-02-04 17:54:05   3.3803   \n",
       "30       30             Luanda      AO  2021-02-04 17:51:33  -8.8368   \n",
       "36       36           Bengkulu      ID  2021-02-04 17:54:05  -3.8004   \n",
       "\n",
       "         Lng  Max Temp  Humidity  Cloudiness  Wind Speed  \n",
       "0  -134.9692     78.26        69          99       11.05  \n",
       "3   -90.3518     86.00        70           0       19.57  \n",
       "8    55.7679     82.40        65          75        6.91  \n",
       "9   -50.0119     78.04        80          41        9.89  \n",
       "10  -41.0511     89.60        48          20       20.71  \n",
       "15  114.6000     77.00        31          98       17.27  \n",
       "27 -175.2000     77.00       100          75        4.61  \n",
       "29  -59.7968     88.05        55          46       11.77  \n",
       "30   13.2343     84.20        74          20       10.36  \n",
       "36  102.2655     75.81        86         100        4.61  "
      ]
     },
     "execution_count": 18,
     "metadata": {},
     "output_type": "execute_result"
    }
   ],
   "source": [
    "# Filter the dataset to find the cities that fit the criteria.\n",
    "preferred_cities_df = city_data_df.loc[(city_data_df[\"Max Temp\"] <= max_temp) & \\\n",
    "                                       (city_data_df[\"Max Temp\"] >= min_temp)]\n",
    "preferred_cities_df.head(10)"
   ]
  },
  {
   "cell_type": "code",
   "execution_count": 19,
   "metadata": {},
   "outputs": [
    {
     "data": {
      "text/plain": [
       "City_ID       165\n",
       "City          165\n",
       "Country       163\n",
       "Date          165\n",
       "Lat           165\n",
       "Lng           165\n",
       "Max Temp      165\n",
       "Humidity      165\n",
       "Cloudiness    165\n",
       "Wind Speed    165\n",
       "dtype: int64"
      ]
     },
     "execution_count": 19,
     "metadata": {},
     "output_type": "execute_result"
    }
   ],
   "source": [
    "preferred_cities_df.count()"
   ]
  },
  {
   "cell_type": "code",
   "execution_count": 20,
   "metadata": {},
   "outputs": [
    {
     "data": {
      "text/plain": [
       "City_ID       165\n",
       "City          165\n",
       "Country       163\n",
       "Date          165\n",
       "Lat           165\n",
       "Lng           165\n",
       "Max Temp      165\n",
       "Humidity      165\n",
       "Cloudiness    165\n",
       "Wind Speed    165\n",
       "dtype: int64"
      ]
     },
     "execution_count": 20,
     "metadata": {},
     "output_type": "execute_result"
    }
   ],
   "source": [
    "preferred_cities_df.notnull().sum()"
   ]
  },
  {
   "cell_type": "code",
   "execution_count": 21,
   "metadata": {},
   "outputs": [
    {
     "data": {
      "text/plain": [
       "City_ID       0\n",
       "City          0\n",
       "Country       2\n",
       "Date          0\n",
       "Lat           0\n",
       "Lng           0\n",
       "Max Temp      0\n",
       "Humidity      0\n",
       "Cloudiness    0\n",
       "Wind Speed    0\n",
       "dtype: int64"
      ]
     },
     "execution_count": 21,
     "metadata": {},
     "output_type": "execute_result"
    }
   ],
   "source": [
    "preferred_cities_df.isnull().sum()"
   ]
  },
  {
   "cell_type": "code",
   "execution_count": 22,
   "metadata": {},
   "outputs": [],
   "source": [
    "# If you have some rows with null values, \n",
    "# you'll need to drop them using the dropna() method at the end of your filtering \n",
    "# statement when you are creating the new DataFrame."
   ]
  },
  {
   "cell_type": "code",
   "execution_count": 23,
   "metadata": {},
   "outputs": [
    {
     "data": {
      "text/html": [
       "<div>\n",
       "<style scoped>\n",
       "    .dataframe tbody tr th:only-of-type {\n",
       "        vertical-align: middle;\n",
       "    }\n",
       "\n",
       "    .dataframe tbody tr th {\n",
       "        vertical-align: top;\n",
       "    }\n",
       "\n",
       "    .dataframe thead th {\n",
       "        text-align: right;\n",
       "    }\n",
       "</style>\n",
       "<table border=\"1\" class=\"dataframe\">\n",
       "  <thead>\n",
       "    <tr style=\"text-align: right;\">\n",
       "      <th></th>\n",
       "      <th>City_ID</th>\n",
       "      <th>City</th>\n",
       "      <th>Country</th>\n",
       "      <th>Date</th>\n",
       "      <th>Lat</th>\n",
       "      <th>Lng</th>\n",
       "      <th>Max Temp</th>\n",
       "      <th>Humidity</th>\n",
       "      <th>Cloudiness</th>\n",
       "      <th>Wind Speed</th>\n",
       "    </tr>\n",
       "  </thead>\n",
       "  <tbody>\n",
       "    <tr>\n",
       "      <th>0</th>\n",
       "      <td>0</td>\n",
       "      <td>Rikitea</td>\n",
       "      <td>PF</td>\n",
       "      <td>2021-02-04 17:54:00</td>\n",
       "      <td>-23.1203</td>\n",
       "      <td>-134.9692</td>\n",
       "      <td>78.26</td>\n",
       "      <td>69</td>\n",
       "      <td>99</td>\n",
       "      <td>11.05</td>\n",
       "    </tr>\n",
       "    <tr>\n",
       "      <th>3</th>\n",
       "      <td>3</td>\n",
       "      <td>Puerto Ayora</td>\n",
       "      <td>EC</td>\n",
       "      <td>2021-02-04 17:54:00</td>\n",
       "      <td>-0.7393</td>\n",
       "      <td>-90.3518</td>\n",
       "      <td>86.00</td>\n",
       "      <td>70</td>\n",
       "      <td>0</td>\n",
       "      <td>19.57</td>\n",
       "    </tr>\n",
       "    <tr>\n",
       "      <th>8</th>\n",
       "      <td>8</td>\n",
       "      <td>Saint-Philippe</td>\n",
       "      <td>RE</td>\n",
       "      <td>2021-02-04 17:54:01</td>\n",
       "      <td>-21.3585</td>\n",
       "      <td>55.7679</td>\n",
       "      <td>82.40</td>\n",
       "      <td>65</td>\n",
       "      <td>75</td>\n",
       "      <td>6.91</td>\n",
       "    </tr>\n",
       "    <tr>\n",
       "      <th>9</th>\n",
       "      <td>9</td>\n",
       "      <td>Castro</td>\n",
       "      <td>BR</td>\n",
       "      <td>2021-02-04 17:54:01</td>\n",
       "      <td>-24.7911</td>\n",
       "      <td>-50.0119</td>\n",
       "      <td>78.04</td>\n",
       "      <td>80</td>\n",
       "      <td>41</td>\n",
       "      <td>9.89</td>\n",
       "    </tr>\n",
       "    <tr>\n",
       "      <th>10</th>\n",
       "      <td>10</td>\n",
       "      <td>Sao Joao Da Barra</td>\n",
       "      <td>BR</td>\n",
       "      <td>2021-02-04 17:53:37</td>\n",
       "      <td>-21.6403</td>\n",
       "      <td>-41.0511</td>\n",
       "      <td>89.60</td>\n",
       "      <td>48</td>\n",
       "      <td>20</td>\n",
       "      <td>20.71</td>\n",
       "    </tr>\n",
       "    <tr>\n",
       "      <th>...</th>\n",
       "      <td>...</td>\n",
       "      <td>...</td>\n",
       "      <td>...</td>\n",
       "      <td>...</td>\n",
       "      <td>...</td>\n",
       "      <td>...</td>\n",
       "      <td>...</td>\n",
       "      <td>...</td>\n",
       "      <td>...</td>\n",
       "      <td>...</td>\n",
       "    </tr>\n",
       "    <tr>\n",
       "      <th>551</th>\n",
       "      <td>551</td>\n",
       "      <td>Mangai</td>\n",
       "      <td>CD</td>\n",
       "      <td>2021-02-04 17:55:13</td>\n",
       "      <td>-4.0500</td>\n",
       "      <td>19.5333</td>\n",
       "      <td>76.60</td>\n",
       "      <td>74</td>\n",
       "      <td>70</td>\n",
       "      <td>1.99</td>\n",
       "    </tr>\n",
       "    <tr>\n",
       "      <th>553</th>\n",
       "      <td>553</td>\n",
       "      <td>Morros</td>\n",
       "      <td>BR</td>\n",
       "      <td>2021-02-04 17:55:13</td>\n",
       "      <td>-9.4467</td>\n",
       "      <td>-46.3003</td>\n",
       "      <td>82.85</td>\n",
       "      <td>63</td>\n",
       "      <td>50</td>\n",
       "      <td>6.08</td>\n",
       "    </tr>\n",
       "    <tr>\n",
       "      <th>557</th>\n",
       "      <td>557</td>\n",
       "      <td>Mindelo</td>\n",
       "      <td>CV</td>\n",
       "      <td>2021-02-04 17:55:14</td>\n",
       "      <td>16.8901</td>\n",
       "      <td>-24.9804</td>\n",
       "      <td>75.20</td>\n",
       "      <td>57</td>\n",
       "      <td>40</td>\n",
       "      <td>34.52</td>\n",
       "    </tr>\n",
       "    <tr>\n",
       "      <th>558</th>\n",
       "      <td>558</td>\n",
       "      <td>Nabire</td>\n",
       "      <td>ID</td>\n",
       "      <td>2021-02-04 17:55:07</td>\n",
       "      <td>-3.3667</td>\n",
       "      <td>135.4833</td>\n",
       "      <td>76.69</td>\n",
       "      <td>87</td>\n",
       "      <td>100</td>\n",
       "      <td>2.71</td>\n",
       "    </tr>\n",
       "    <tr>\n",
       "      <th>560</th>\n",
       "      <td>560</td>\n",
       "      <td>French Harbor</td>\n",
       "      <td>HN</td>\n",
       "      <td>2021-02-04 17:55:14</td>\n",
       "      <td>16.3500</td>\n",
       "      <td>-86.4333</td>\n",
       "      <td>77.00</td>\n",
       "      <td>94</td>\n",
       "      <td>75</td>\n",
       "      <td>13.80</td>\n",
       "    </tr>\n",
       "  </tbody>\n",
       "</table>\n",
       "<p>163 rows × 10 columns</p>\n",
       "</div>"
      ],
      "text/plain": [
       "     City_ID               City Country                 Date      Lat  \\\n",
       "0          0            Rikitea      PF  2021-02-04 17:54:00 -23.1203   \n",
       "3          3       Puerto Ayora      EC  2021-02-04 17:54:00  -0.7393   \n",
       "8          8     Saint-Philippe      RE  2021-02-04 17:54:01 -21.3585   \n",
       "9          9             Castro      BR  2021-02-04 17:54:01 -24.7911   \n",
       "10        10  Sao Joao Da Barra      BR  2021-02-04 17:53:37 -21.6403   \n",
       "..       ...                ...     ...                  ...      ...   \n",
       "551      551             Mangai      CD  2021-02-04 17:55:13  -4.0500   \n",
       "553      553             Morros      BR  2021-02-04 17:55:13  -9.4467   \n",
       "557      557            Mindelo      CV  2021-02-04 17:55:14  16.8901   \n",
       "558      558             Nabire      ID  2021-02-04 17:55:07  -3.3667   \n",
       "560      560      French Harbor      HN  2021-02-04 17:55:14  16.3500   \n",
       "\n",
       "          Lng  Max Temp  Humidity  Cloudiness  Wind Speed  \n",
       "0   -134.9692     78.26        69          99       11.05  \n",
       "3    -90.3518     86.00        70           0       19.57  \n",
       "8     55.7679     82.40        65          75        6.91  \n",
       "9    -50.0119     78.04        80          41        9.89  \n",
       "10   -41.0511     89.60        48          20       20.71  \n",
       "..        ...       ...       ...         ...         ...  \n",
       "551   19.5333     76.60        74          70        1.99  \n",
       "553  -46.3003     82.85        63          50        6.08  \n",
       "557  -24.9804     75.20        57          40       34.52  \n",
       "558  135.4833     76.69        87         100        2.71  \n",
       "560  -86.4333     77.00        94          75       13.80  \n",
       "\n",
       "[163 rows x 10 columns]"
      ]
     },
     "execution_count": 23,
     "metadata": {},
     "output_type": "execute_result"
    }
   ],
   "source": [
    "preferred_cities_df.dropna()"
   ]
  },
  {
   "cell_type": "code",
   "execution_count": 24,
   "metadata": {},
   "outputs": [],
   "source": [
    "# MAP VACATION CRITERIA"
   ]
  },
  {
   "cell_type": "code",
   "execution_count": 25,
   "metadata": {},
   "outputs": [
    {
     "data": {
      "text/html": [
       "<div>\n",
       "<style scoped>\n",
       "    .dataframe tbody tr th:only-of-type {\n",
       "        vertical-align: middle;\n",
       "    }\n",
       "\n",
       "    .dataframe tbody tr th {\n",
       "        vertical-align: top;\n",
       "    }\n",
       "\n",
       "    .dataframe thead th {\n",
       "        text-align: right;\n",
       "    }\n",
       "</style>\n",
       "<table border=\"1\" class=\"dataframe\">\n",
       "  <thead>\n",
       "    <tr style=\"text-align: right;\">\n",
       "      <th></th>\n",
       "      <th>City</th>\n",
       "      <th>Country</th>\n",
       "      <th>Max Temp</th>\n",
       "      <th>Lat</th>\n",
       "      <th>Lng</th>\n",
       "      <th>Hotel Name</th>\n",
       "    </tr>\n",
       "  </thead>\n",
       "  <tbody>\n",
       "    <tr>\n",
       "      <th>0</th>\n",
       "      <td>Rikitea</td>\n",
       "      <td>PF</td>\n",
       "      <td>78.26</td>\n",
       "      <td>-23.1203</td>\n",
       "      <td>-134.9692</td>\n",
       "      <td></td>\n",
       "    </tr>\n",
       "    <tr>\n",
       "      <th>3</th>\n",
       "      <td>Puerto Ayora</td>\n",
       "      <td>EC</td>\n",
       "      <td>86.00</td>\n",
       "      <td>-0.7393</td>\n",
       "      <td>-90.3518</td>\n",
       "      <td></td>\n",
       "    </tr>\n",
       "    <tr>\n",
       "      <th>8</th>\n",
       "      <td>Saint-Philippe</td>\n",
       "      <td>RE</td>\n",
       "      <td>82.40</td>\n",
       "      <td>-21.3585</td>\n",
       "      <td>55.7679</td>\n",
       "      <td></td>\n",
       "    </tr>\n",
       "    <tr>\n",
       "      <th>9</th>\n",
       "      <td>Castro</td>\n",
       "      <td>BR</td>\n",
       "      <td>78.04</td>\n",
       "      <td>-24.7911</td>\n",
       "      <td>-50.0119</td>\n",
       "      <td></td>\n",
       "    </tr>\n",
       "    <tr>\n",
       "      <th>10</th>\n",
       "      <td>Sao Joao Da Barra</td>\n",
       "      <td>BR</td>\n",
       "      <td>89.60</td>\n",
       "      <td>-21.6403</td>\n",
       "      <td>-41.0511</td>\n",
       "      <td></td>\n",
       "    </tr>\n",
       "    <tr>\n",
       "      <th>15</th>\n",
       "      <td>Geraldton</td>\n",
       "      <td>AU</td>\n",
       "      <td>77.00</td>\n",
       "      <td>-28.7667</td>\n",
       "      <td>114.6000</td>\n",
       "      <td></td>\n",
       "    </tr>\n",
       "    <tr>\n",
       "      <th>27</th>\n",
       "      <td>Vaini</td>\n",
       "      <td>TO</td>\n",
       "      <td>77.00</td>\n",
       "      <td>-21.2000</td>\n",
       "      <td>-175.2000</td>\n",
       "      <td></td>\n",
       "    </tr>\n",
       "    <tr>\n",
       "      <th>29</th>\n",
       "      <td>Lethem</td>\n",
       "      <td>GY</td>\n",
       "      <td>88.05</td>\n",
       "      <td>3.3803</td>\n",
       "      <td>-59.7968</td>\n",
       "      <td></td>\n",
       "    </tr>\n",
       "    <tr>\n",
       "      <th>30</th>\n",
       "      <td>Luanda</td>\n",
       "      <td>AO</td>\n",
       "      <td>84.20</td>\n",
       "      <td>-8.8368</td>\n",
       "      <td>13.2343</td>\n",
       "      <td></td>\n",
       "    </tr>\n",
       "    <tr>\n",
       "      <th>36</th>\n",
       "      <td>Bengkulu</td>\n",
       "      <td>ID</td>\n",
       "      <td>75.81</td>\n",
       "      <td>-3.8004</td>\n",
       "      <td>102.2655</td>\n",
       "      <td></td>\n",
       "    </tr>\n",
       "  </tbody>\n",
       "</table>\n",
       "</div>"
      ],
      "text/plain": [
       "                 City Country  Max Temp      Lat       Lng Hotel Name\n",
       "0             Rikitea      PF     78.26 -23.1203 -134.9692           \n",
       "3        Puerto Ayora      EC     86.00  -0.7393  -90.3518           \n",
       "8      Saint-Philippe      RE     82.40 -21.3585   55.7679           \n",
       "9              Castro      BR     78.04 -24.7911  -50.0119           \n",
       "10  Sao Joao Da Barra      BR     89.60 -21.6403  -41.0511           \n",
       "15          Geraldton      AU     77.00 -28.7667  114.6000           \n",
       "27              Vaini      TO     77.00 -21.2000 -175.2000           \n",
       "29             Lethem      GY     88.05   3.3803  -59.7968           \n",
       "30             Luanda      AO     84.20  -8.8368   13.2343           \n",
       "36           Bengkulu      ID     75.81  -3.8004  102.2655           "
      ]
     },
     "execution_count": 25,
     "metadata": {},
     "output_type": "execute_result"
    }
   ],
   "source": [
    "# Create DataFrame called hotel_df to store hotel names along with city, country, max temp, and coordinates.\n",
    "hotel_df = preferred_cities_df[[\"City\", \"Country\", \"Max Temp\", \"Lat\", \"Lng\"]].copy()\n",
    "hotel_df[\"Hotel Name\"] = \"\"\n",
    "hotel_df.head(10)"
   ]
  },
  {
   "cell_type": "code",
   "execution_count": 26,
   "metadata": {},
   "outputs": [],
   "source": [
    "# Iterate Through hotel_df DataFrame"
   ]
  },
  {
   "cell_type": "code",
   "execution_count": 27,
   "metadata": {},
   "outputs": [],
   "source": [
    "# Iterate through the DataFrame.\n",
    "for index, row in hotel_df.iterrows():\n",
    "    # Get the latitude and longitude.\n",
    "    lat = row[\"Lat\"]\n",
    "    lng = row[\"Lng\"]\n",
    "\n",
    "    # Add the latitude and longitude to location key for the params dictionary.\n",
    "    params = {\n",
    "        \"location\": f\"{lat},{lng}\",\n",
    "        \"radius\": 5000,\n",
    "        \"types\" : \"hotel\",\n",
    "        \"key\": g_key\n",
    "    }\n",
    "\n",
    "    # Use the search term: \"lodging\" and our latitude and longitude.\n",
    "    base_url = \"https://maps.googleapis.com/maps/api/place/nearbysearch/json\"\n",
    "    \n",
    "    # Make request and get the JSON data from the search.\n",
    "    hotels = requests.get(base_url, params=params).json()\n",
    "    \n",
    "    # Grab the first hotel from the results and store the name.\n",
    "    #hotel_df.loc[index, \"Hotel Name\"] = hotels[\"results\"][0][\"name\"]\n",
    "    \n",
    "    # Grab the first hotel from the results and store the name.\n",
    "    try:\n",
    "        hotel_df.loc[index, \"Hotel Name\"] = hotels[\"results\"][0][\"name\"]\n",
    "    except (IndexError): print(\"Hotel not found... skipping.\")"
   ]
  },
  {
   "cell_type": "code",
   "execution_count": 29,
   "metadata": {},
   "outputs": [
    {
     "data": {
      "text/html": [
       "<div>\n",
       "<style scoped>\n",
       "    .dataframe tbody tr th:only-of-type {\n",
       "        vertical-align: middle;\n",
       "    }\n",
       "\n",
       "    .dataframe tbody tr th {\n",
       "        vertical-align: top;\n",
       "    }\n",
       "\n",
       "    .dataframe thead th {\n",
       "        text-align: right;\n",
       "    }\n",
       "</style>\n",
       "<table border=\"1\" class=\"dataframe\">\n",
       "  <thead>\n",
       "    <tr style=\"text-align: right;\">\n",
       "      <th></th>\n",
       "      <th>City</th>\n",
       "      <th>Country</th>\n",
       "      <th>Max Temp</th>\n",
       "      <th>Lat</th>\n",
       "      <th>Lng</th>\n",
       "      <th>Hotel Name</th>\n",
       "    </tr>\n",
       "  </thead>\n",
       "  <tbody>\n",
       "    <tr>\n",
       "      <th>0</th>\n",
       "      <td>Rikitea</td>\n",
       "      <td>PF</td>\n",
       "      <td>78.26</td>\n",
       "      <td>-23.1203</td>\n",
       "      <td>-134.9692</td>\n",
       "      <td>Rikitea</td>\n",
       "    </tr>\n",
       "    <tr>\n",
       "      <th>3</th>\n",
       "      <td>Puerto Ayora</td>\n",
       "      <td>EC</td>\n",
       "      <td>86.00</td>\n",
       "      <td>-0.7393</td>\n",
       "      <td>-90.3518</td>\n",
       "      <td>Puerto Ayora</td>\n",
       "    </tr>\n",
       "    <tr>\n",
       "      <th>8</th>\n",
       "      <td>Saint-Philippe</td>\n",
       "      <td>RE</td>\n",
       "      <td>82.40</td>\n",
       "      <td>-21.3585</td>\n",
       "      <td>55.7679</td>\n",
       "      <td>Saint-Philippe</td>\n",
       "    </tr>\n",
       "    <tr>\n",
       "      <th>9</th>\n",
       "      <td>Castro</td>\n",
       "      <td>BR</td>\n",
       "      <td>78.04</td>\n",
       "      <td>-24.7911</td>\n",
       "      <td>-50.0119</td>\n",
       "      <td>Castro</td>\n",
       "    </tr>\n",
       "    <tr>\n",
       "      <th>10</th>\n",
       "      <td>Sao Joao Da Barra</td>\n",
       "      <td>BR</td>\n",
       "      <td>89.60</td>\n",
       "      <td>-21.6403</td>\n",
       "      <td>-41.0511</td>\n",
       "      <td>Grussaí</td>\n",
       "    </tr>\n",
       "    <tr>\n",
       "      <th>15</th>\n",
       "      <td>Geraldton</td>\n",
       "      <td>AU</td>\n",
       "      <td>77.00</td>\n",
       "      <td>-28.7667</td>\n",
       "      <td>114.6000</td>\n",
       "      <td>Geraldton</td>\n",
       "    </tr>\n",
       "    <tr>\n",
       "      <th>27</th>\n",
       "      <td>Vaini</td>\n",
       "      <td>TO</td>\n",
       "      <td>77.00</td>\n",
       "      <td>-21.2000</td>\n",
       "      <td>-175.2000</td>\n",
       "      <td>Nukuhetulu</td>\n",
       "    </tr>\n",
       "    <tr>\n",
       "      <th>29</th>\n",
       "      <td>Lethem</td>\n",
       "      <td>GY</td>\n",
       "      <td>88.05</td>\n",
       "      <td>3.3803</td>\n",
       "      <td>-59.7968</td>\n",
       "      <td>Bonfim</td>\n",
       "    </tr>\n",
       "    <tr>\n",
       "      <th>30</th>\n",
       "      <td>Luanda</td>\n",
       "      <td>AO</td>\n",
       "      <td>84.20</td>\n",
       "      <td>-8.8368</td>\n",
       "      <td>13.2343</td>\n",
       "      <td>Luanda</td>\n",
       "    </tr>\n",
       "    <tr>\n",
       "      <th>36</th>\n",
       "      <td>Bengkulu</td>\n",
       "      <td>ID</td>\n",
       "      <td>75.81</td>\n",
       "      <td>-3.8004</td>\n",
       "      <td>102.2655</td>\n",
       "      <td>Bengkulu</td>\n",
       "    </tr>\n",
       "  </tbody>\n",
       "</table>\n",
       "</div>"
      ],
      "text/plain": [
       "                 City Country  Max Temp      Lat       Lng      Hotel Name\n",
       "0             Rikitea      PF     78.26 -23.1203 -134.9692         Rikitea\n",
       "3        Puerto Ayora      EC     86.00  -0.7393  -90.3518    Puerto Ayora\n",
       "8      Saint-Philippe      RE     82.40 -21.3585   55.7679  Saint-Philippe\n",
       "9              Castro      BR     78.04 -24.7911  -50.0119          Castro\n",
       "10  Sao Joao Da Barra      BR     89.60 -21.6403  -41.0511         Grussaí\n",
       "15          Geraldton      AU     77.00 -28.7667  114.6000       Geraldton\n",
       "27              Vaini      TO     77.00 -21.2000 -175.2000      Nukuhetulu\n",
       "29             Lethem      GY     88.05   3.3803  -59.7968          Bonfim\n",
       "30             Luanda      AO     84.20  -8.8368   13.2343          Luanda\n",
       "36           Bengkulu      ID     75.81  -3.8004  102.2655        Bengkulu"
      ]
     },
     "execution_count": 29,
     "metadata": {},
     "output_type": "execute_result"
    }
   ],
   "source": [
    "hotel_df.head(10)"
   ]
  },
  {
   "cell_type": "code",
   "execution_count": 30,
   "metadata": {},
   "outputs": [],
   "source": [
    "# Create a Maximum Temperature Heatmap from a Hotel DataFrame"
   ]
  },
  {
   "cell_type": "code",
   "execution_count": 32,
   "metadata": {},
   "outputs": [
    {
     "data": {
      "application/vnd.jupyter.widget-view+json": {
       "model_id": "f4fecd97e6f14061bc68bcfd2fec010e",
       "version_major": 2,
       "version_minor": 0
      },
      "text/plain": [
       "Figure(layout=FigureLayout(height='420px'))"
      ]
     },
     "metadata": {},
     "output_type": "display_data"
    }
   ],
   "source": [
    "# Add a heatmap of temperature for the vacation spots and marker for each city.\n",
    "locations = hotel_df[[\"Lat\", \"Lng\"]]\n",
    "max_temp = hotel_df[\"Max Temp\"]\n",
    "fig = gmaps.figure(center=(30.0, 31.0), zoom_level=1.5)\n",
    "heat_layer = gmaps.heatmap_layer(locations, weights=max_temp,\n",
    "             dissipating=False, max_intensity=300, point_radius=4)\n",
    "marker_layer = gmaps.marker_layer(locations)\n",
    "fig.add_layer(heat_layer)\n",
    "fig.add_layer(marker_layer)\n",
    "# Call the figure to plot the data.\n",
    "fig"
   ]
  },
  {
   "cell_type": "code",
   "execution_count": 33,
   "metadata": {},
   "outputs": [],
   "source": [
    "# The text inside the multiline string is HTML code. \n",
    "# HTML code is defined by the opening and closing the angular brackets (e.g., <tag> and <tag/>). \n",
    "\n",
    "# Using the template add the hotel marks to the heatmap\n",
    "info_box_template = \"\"\"\n",
    "<dl>\n",
    "<dt>Hotel Name</dt><dd>{Hotel Name}</dd>\n",
    "<dt>City</dt><dd>{City}</dd>\n",
    "<dt>Country</dt><dd>{Country}</dd>\n",
    "<dt>Max Temp</dt><dd>{Max Temp} °F</dd>\n",
    "</dl>\n",
    "\"\"\"\n",
    "\n",
    "# Store the DataFrame Row.\n",
    "hotel_info = [info_box_template.format(**row) for index, row in hotel_df.iterrows()]"
   ]
  },
  {
   "cell_type": "code",
   "execution_count": 34,
   "metadata": {},
   "outputs": [
    {
     "data": {
      "application/vnd.jupyter.widget-view+json": {
       "model_id": "98ec754082904bd680d6eb299b19ca9e",
       "version_major": 2,
       "version_minor": 0
      },
      "text/plain": [
       "Figure(layout=FigureLayout(height='420px'))"
      ]
     },
     "metadata": {},
     "output_type": "display_data"
    }
   ],
   "source": [
    "# Add a heatmap of temperature for the vacation spots and a pop-up marker for each city.\n",
    "locations = hotel_df[[\"Lat\", \"Lng\"]]\n",
    "max_temp = hotel_df[\"Max Temp\"]\n",
    "fig = gmaps.figure(center=(30.0, 31.0), zoom_level=1.5)\n",
    "heat_layer = gmaps.heatmap_layer(locations, weights=max_temp,dissipating=False,\n",
    "             max_intensity=300, point_radius=4)\n",
    "marker_layer = gmaps.marker_layer(locations, info_box_content=hotel_info)\n",
    "fig.add_layer(heat_layer)\n",
    "fig.add_layer(marker_layer)\n",
    "\n",
    "# Call the figure to plot the data.\n",
    "fig"
   ]
  },
  {
   "cell_type": "code",
   "execution_count": null,
   "metadata": {},
   "outputs": [],
   "source": []
  }
 ],
 "metadata": {
  "celltoolbar": "Raw Cell Format",
  "kernelspec": {
   "display_name": "Python 3",
   "language": "python",
   "name": "python3"
  },
  "language_info": {
   "codemirror_mode": {
    "name": "ipython",
    "version": 3
   },
   "file_extension": ".py",
   "mimetype": "text/x-python",
   "name": "python",
   "nbconvert_exporter": "python",
   "pygments_lexer": "ipython3",
   "version": "3.8.5"
  }
 },
 "nbformat": 4,
 "nbformat_minor": 4
}
